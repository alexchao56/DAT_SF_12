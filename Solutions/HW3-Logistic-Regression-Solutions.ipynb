{
 "metadata": {
  "name": "",
  "signature": "sha256:9f548a51badda0c2f7f16f69ca28e0063aac10d0f7f87ae3640df83225d7be53"
 },
 "nbformat": 3,
 "nbformat_minor": 0,
 "worksheets": [
  {
   "cells": [
    {
     "cell_type": "markdown",
     "metadata": {},
     "source": [
      "In this homework, we'll be looking at the infamous Titanic dataset. It's become a canonical example for budding data scientists beginning machine learning and will be a good case study in using logistic regression."
     ]
    },
    {
     "cell_type": "markdown",
     "metadata": {},
     "source": [
      "From the project description on [Kaggle]('http://www.kaggle.com/c/titanic-gettingStarted'):\n",
      "###Kaggle Competition | Titanic Machine Learning from Disaster\n",
      "\n",
      ">The sinking of the RMS Titanic is one of the most infamous shipwrecks in history.  On April 15, 1912, during her maiden voyage, the Titanic sank after colliding with an iceberg, killing 1502 out of 2224 passengers and crew.  This sensational tragedy shocked the international community and led to better safety regulations for ships.\n",
      "\n",
      ">One of the reasons that the shipwreck led to such loss of life was that there were not enough lifeboats for the passengers and crew.  Although there was some element of luck involved in surviving the sinking, some groups of people were more likely to survive than others, such as women, children, and the upper-class.\n",
      "\n",
      ">In this contest, we ask you to complete the analysis of what sorts of people were likely to survive.  In particular, we ask you to apply the tools of machine learning to predict which passengers survived the tragedy.\n",
      "\n",
      ">This Kaggle Getting Started Competition provides an ideal starting place for people who may not have a lot of experience in data science and machine learning.\""
     ]
    },
    {
     "cell_type": "markdown",
     "metadata": {},
     "source": [
      "As with any start of a data science problem make sure you import your libraries!"
     ]
    },
    {
     "cell_type": "code",
     "collapsed": false,
     "input": [
      "import numpy as np\n",
      "import pandas as pd\n",
      "import statsmodels.api as sm\n",
      "import statsmodels.formula.api as smf\n",
      "#import additional libraries here if you need them\n",
      "import seaborn as sns\n",
      "from seaborn import plt"
     ],
     "language": "python",
     "metadata": {},
     "outputs": [],
     "prompt_number": 3
    },
    {
     "cell_type": "markdown",
     "metadata": {},
     "source": [
      "Kaggle has conveniently split the data already into a training set and test set. You can find them in the data folder."
     ]
    },
    {
     "cell_type": "code",
     "collapsed": false,
     "input": [
      "#load data here\n",
      "df = pd.read_csv('../data/titanic_training.csv')\n",
      "df.head()"
     ],
     "language": "python",
     "metadata": {},
     "outputs": [
      {
       "html": [
        "<div style=\"max-height:1000px;max-width:1500px;overflow:auto;\">\n",
        "<table border=\"1\" class=\"dataframe\">\n",
        "  <thead>\n",
        "    <tr style=\"text-align: right;\">\n",
        "      <th></th>\n",
        "      <th>survived</th>\n",
        "      <th>pclass</th>\n",
        "      <th>name</th>\n",
        "      <th>sex</th>\n",
        "      <th>age</th>\n",
        "      <th>sibsp</th>\n",
        "      <th>parch</th>\n",
        "      <th>ticket</th>\n",
        "      <th>fare</th>\n",
        "      <th>cabin</th>\n",
        "      <th>embarked</th>\n",
        "    </tr>\n",
        "  </thead>\n",
        "  <tbody>\n",
        "    <tr>\n",
        "      <th>0</th>\n",
        "      <td> 0</td>\n",
        "      <td> 3</td>\n",
        "      <td>                           Braund, Mr. Owen Harris</td>\n",
        "      <td>   male</td>\n",
        "      <td> 22</td>\n",
        "      <td> 1</td>\n",
        "      <td> 0</td>\n",
        "      <td>        A/5 21171</td>\n",
        "      <td>  7.2500</td>\n",
        "      <td>  NaN</td>\n",
        "      <td> S</td>\n",
        "    </tr>\n",
        "    <tr>\n",
        "      <th>1</th>\n",
        "      <td> 1</td>\n",
        "      <td> 1</td>\n",
        "      <td> Cumings, Mrs. John Bradley (Florence Briggs Th...</td>\n",
        "      <td> female</td>\n",
        "      <td> 38</td>\n",
        "      <td> 1</td>\n",
        "      <td> 0</td>\n",
        "      <td>         PC 17599</td>\n",
        "      <td> 71.2833</td>\n",
        "      <td>  C85</td>\n",
        "      <td> C</td>\n",
        "    </tr>\n",
        "    <tr>\n",
        "      <th>2</th>\n",
        "      <td> 1</td>\n",
        "      <td> 3</td>\n",
        "      <td>                            Heikkinen, Miss. Laina</td>\n",
        "      <td> female</td>\n",
        "      <td> 26</td>\n",
        "      <td> 0</td>\n",
        "      <td> 0</td>\n",
        "      <td> STON/O2. 3101282</td>\n",
        "      <td>  7.9250</td>\n",
        "      <td>  NaN</td>\n",
        "      <td> S</td>\n",
        "    </tr>\n",
        "    <tr>\n",
        "      <th>3</th>\n",
        "      <td> 1</td>\n",
        "      <td> 1</td>\n",
        "      <td>      Futrelle, Mrs. Jacques Heath (Lily May Peel)</td>\n",
        "      <td> female</td>\n",
        "      <td> 35</td>\n",
        "      <td> 1</td>\n",
        "      <td> 0</td>\n",
        "      <td>           113803</td>\n",
        "      <td> 53.1000</td>\n",
        "      <td> C123</td>\n",
        "      <td> S</td>\n",
        "    </tr>\n",
        "    <tr>\n",
        "      <th>4</th>\n",
        "      <td> 0</td>\n",
        "      <td> 3</td>\n",
        "      <td>                          Allen, Mr. William Henry</td>\n",
        "      <td>   male</td>\n",
        "      <td> 35</td>\n",
        "      <td> 0</td>\n",
        "      <td> 0</td>\n",
        "      <td>           373450</td>\n",
        "      <td>  8.0500</td>\n",
        "      <td>  NaN</td>\n",
        "      <td> S</td>\n",
        "    </tr>\n",
        "  </tbody>\n",
        "</table>\n",
        "</div>"
       ],
       "metadata": {},
       "output_type": "pyout",
       "prompt_number": 4,
       "text": [
        "   survived  pclass                                               name  \\\n",
        "0         0       3                            Braund, Mr. Owen Harris   \n",
        "1         1       1  Cumings, Mrs. John Bradley (Florence Briggs Th...   \n",
        "2         1       3                             Heikkinen, Miss. Laina   \n",
        "3         1       1       Futrelle, Mrs. Jacques Heath (Lily May Peel)   \n",
        "4         0       3                           Allen, Mr. William Henry   \n",
        "\n",
        "      sex  age  sibsp  parch            ticket     fare cabin embarked  \n",
        "0    male   22      1      0         A/5 21171   7.2500   NaN        S  \n",
        "1  female   38      1      0          PC 17599  71.2833   C85        C  \n",
        "2  female   26      0      0  STON/O2. 3101282   7.9250   NaN        S  \n",
        "3  female   35      1      0            113803  53.1000  C123        S  \n",
        "4    male   35      0      0            373450   8.0500   NaN        S  "
       ]
      }
     ],
     "prompt_number": 4
    },
    {
     "cell_type": "code",
     "collapsed": false,
     "input": [
      "df.info()"
     ],
     "language": "python",
     "metadata": {},
     "outputs": [
      {
       "output_type": "stream",
       "stream": "stdout",
       "text": [
        "<class 'pandas.core.frame.DataFrame'>\n",
        "Int64Index: 891 entries, 0 to 890\n",
        "Data columns (total 11 columns):\n",
        "survived    891 non-null int64\n",
        "pclass      891 non-null int64\n",
        "name        891 non-null object\n",
        "sex         891 non-null object\n",
        "age         714 non-null float64\n",
        "sibsp       891 non-null int64\n",
        "parch       891 non-null int64\n",
        "ticket      891 non-null object\n",
        "fare        891 non-null float64\n",
        "cabin       204 non-null object\n",
        "embarked    889 non-null object\n",
        "dtypes: float64(2), int64(4), object(5)\n",
        "memory usage: 83.5+ KB\n"
       ]
      }
     ],
     "prompt_number": 5
    },
    {
     "cell_type": "code",
     "collapsed": false,
     "input": [
      "#We want to drop the NA values\n",
      "df = df.dropna()"
     ],
     "language": "python",
     "metadata": {},
     "outputs": [],
     "prompt_number": 3
    },
    {
     "cell_type": "markdown",
     "metadata": {},
     "source": [
      "While you could analyze this data many different ways, we'll focus on using logistic regression. For a recap of what logistic regression is look [here]('http://blog.yhathq.com/posts/logistic-regression-and-python.html')."
     ]
    },
    {
     "cell_type": "markdown",
     "metadata": {},
     "source": [
      "Before creating your model, conduct some exploratory data analysis first. Make a few plots and comment on the results. What interesting patterns do you see?"
     ]
    },
    {
     "cell_type": "code",
     "collapsed": false,
     "input": [
      "#Code for plot goes here\n",
      "# specifies the parameters of our graphs\n",
      "fig = plt.figure(figsize=(18,6), dpi=1600) \n",
      "alpha=alpha_scatterplot = 0.2 \n",
      "alpha_bar_chart = 0.55\n",
      "\n",
      "# lets us plot many diffrent shaped graphs together \n",
      "ax1 = plt.subplot2grid((2,3),(0,0))\n",
      "# plots a bar graph of those who surived vs those who did not.               \n",
      "df.survived.value_counts().plot(kind='bar', alpha=alpha_bar_chart)\n",
      "# this nicely sets the margins in matplotlib to deal with a recent bug 1.3.1\n",
      "ax1.set_xlim(-1, 2)\n",
      "# puts a title on our graph\n",
      "plt.title(\"Distribution of Survival, (1 = Survived)\")    \n",
      "\n",
      "plt.subplot2grid((2,3),(0,1))\n",
      "plt.scatter(df.survived, df.age, alpha=alpha_scatterplot)\n",
      "# sets the y axis lable\n",
      "plt.ylabel(\"Age\")\n",
      "# formats the grid line style of our graphs                          \n",
      "plt.grid(b=True, which='major', axis='y')  \n",
      "plt.title(\"Survial by Age,  (1 = Survived)\")\n",
      "\n",
      "ax3 = plt.subplot2grid((2,3),(0,2))\n",
      "df.pclass.value_counts().plot(kind=\"barh\", alpha=alpha_bar_chart)\n",
      "ax3.set_ylim(-1, len(df.pclass.value_counts()))\n",
      "plt.title(\"Class Distribution\")\n",
      "\n",
      "plt.subplot2grid((2,3),(1,0), colspan=2)\n",
      "# plots a kernel desnsity estimate of the subset of the 1st class passanges's age\n",
      "df.age[df.pclass == 1].plot(kind='kde')    \n",
      "df.age[df.pclass == 2].plot(kind='kde')\n",
      "df.age[df.pclass == 3].plot(kind='kde')\n",
      " # plots an axis lable\n",
      "plt.xlabel(\"Age\")    \n",
      "plt.title(\"Age Distribution within classes\")\n",
      "# sets our legend for our graph.\n",
      "plt.legend(('1st Class', '2nd Class','3rd Class'),loc='best') \n",
      "\n",
      "ax5 = plt.subplot2grid((2,3),(1,2))\n",
      "df.embarked.value_counts().plot(kind='bar', alpha=alpha_bar_chart)\n",
      "ax5.set_xlim(-1, len(df.embarked.value_counts()))\n",
      "# specifies the parameters of our graphs\n",
      "plt.title(\"Passengers per boarding location\")"
     ],
     "language": "python",
     "metadata": {},
     "outputs": [
      {
       "metadata": {},
       "output_type": "pyout",
       "prompt_number": 4,
       "text": [
        "<matplotlib.text.Text at 0x10a13a350>"
       ]
      },
      {
       "metadata": {},
       "output_type": "display_data",
       "png": "[encoded data removed]",
       "text": [
        "<matplotlib.figure.Figure at 0x1095963d0>"
       ]
      }
     ],
     "prompt_number": 4
    },
    {
     "cell_type": "markdown",
     "metadata": {},
     "source": [
      "While these can better help us the nature of our dataset, let's also create a few plots that will hone in on our question of interest, namely predicting whether or not someone on the Titanic survived."
     ]
    },
    {
     "cell_type": "code",
     "collapsed": false,
     "input": [
      "plt.figure(figsize=(6,4))\n",
      "fig, ax = plt.subplots()\n",
      "df.survived.value_counts().plot(kind='barh', color=\"blue\", alpha=.65)\n",
      "ax.set_ylim(-1, len(df.survived.value_counts())) \n",
      "plt.title(\"Survival Breakdown (1 = Survived, 0 = Died)\")"
     ],
     "language": "python",
     "metadata": {},
     "outputs": [
      {
       "metadata": {},
       "output_type": "pyout",
       "prompt_number": 5,
       "text": [
        "<matplotlib.text.Text at 0x10a731210>"
       ]
      },
      {
       "metadata": {},
       "output_type": "display_data",
       "text": [
        "<matplotlib.figure.Figure at 0x109575310>"
       ]
      },
      {
       "metadata": {},
       "output_type": "display_data",
       "png": "[encoded data removed]",
       "text": [
        "<matplotlib.figure.Figure at 0x109575410>"
       ]
      }
     ],
     "prompt_number": 5
    },
    {
     "cell_type": "markdown",
     "metadata": {},
     "source": [
      "Let us also see what it looks like broken down by gender."
     ]
    },
    {
     "cell_type": "code",
     "collapsed": false,
     "input": [
      "fig = plt.figure(figsize=(18,6))\n",
      "\n",
      "# create a plot of two subsets, male and female, of the survived variable.\n",
      "# After we do that we call value_counts() so it can be easily plotted as a bar graph. \n",
      "# 'barh' is just a horizontal bar graph\n",
      "ax1 = fig.add_subplot(121)\n",
      "df.survived[df.sex == 'male'].value_counts().plot(kind='barh',label='Male')\n",
      "df.survived[df.sex == 'female'].value_counts().plot(kind='barh', color='#FA2379',label='Female')\n",
      "ax1.set_ylim(-1, 2) \n",
      "plt.title(\"Who Survived? with respect to Gender, (raw value counts) \"); plt.legend(loc='best')\n",
      "\n",
      "\n",
      "# adjust graph to display the proportions of survival by gender\n",
      "ax2 = fig.add_subplot(122)\n",
      "(df.survived[df.sex == 'male'].value_counts()/float(df.sex[df.sex == 'male'].size)).plot(kind='barh',label='Male')  \n",
      "(df.survived[df.sex == 'female'].value_counts()/float(df.sex[df.sex == 'female'].size)).plot(kind='barh', color='#FA2379',label='Female')\n",
      "ax2.set_ylim(-1, 2)\n",
      "plt.title(\"Who Survived proportionally? with respect to Gender\"); plt.legend(loc='best')"
     ],
     "language": "python",
     "metadata": {},
     "outputs": [
      {
       "metadata": {},
       "output_type": "pyout",
       "prompt_number": 6,
       "text": [
        "<matplotlib.legend.Legend at 0x10b0a9c90>"
       ]
      },
      {
       "metadata": {},
       "output_type": "display_data",
       "png": "[encoded data removed]",
       "text": [
        "<matplotlib.figure.Figure at 0x109596050>"
       ]
      }
     ],
     "prompt_number": 6
    },
    {
     "cell_type": "markdown",
     "metadata": {},
     "source": [
      "Now let us go one step further and segment it by pclass (a metric used to signify a passenger's relative prestige)"
     ]
    },
    {
     "cell_type": "code",
     "collapsed": false,
     "input": [
      "fig = plt.figure(figsize=(18,4), dpi=1600)\n",
      "alpha_level = 0.65\n",
      "\n",
      "# building on the previous code, here we create an additional subset with in the gender subset \n",
      "# we created for the survived variable. I know, thats a lot of subsets. After we do that we call \n",
      "# value_counts() so it it can be easily plotted as a bar graph. this is repeated for each gender \n",
      "# class pair.\n",
      "ax1=fig.add_subplot(141)\n",
      "female_highclass = df.survived[df.sex == 'female'][df.pclass != 3].value_counts()\n",
      "female_highclass.plot(kind='bar', label='female highclass', color='#FA2479', alpha=alpha_level)\n",
      "ax1.set_xticklabels([\"Survived\", \"Died\"], rotation=0)\n",
      "ax1.set_xlim(-1, len(female_highclass))\n",
      "plt.title(\"Who Survived? with respect to Gender and Class\"); plt.legend(loc='best')\n",
      "\n",
      "ax2=fig.add_subplot(142, sharey=ax1)\n",
      "female_lowclass = df.survived[df.sex == 'female'][df.pclass == 3].value_counts()\n",
      "female_lowclass.plot(kind='bar', label='female, low class', color='pink', alpha=alpha_level)\n",
      "ax2.set_xticklabels([\"Died\",\"Survived\"], rotation=0)\n",
      "ax2.set_xlim(-1, len(female_lowclass))\n",
      "plt.legend(loc='best')\n",
      "\n",
      "ax3=fig.add_subplot(143, sharey=ax1)\n",
      "male_lowclass = df.survived[df.sex == 'male'][df.pclass == 3].value_counts()\n",
      "male_lowclass.plot(kind='bar', label='male, low class',color='lightblue', alpha=alpha_level)\n",
      "ax3.set_xticklabels([\"Died\",\"Survived\"], rotation=0)\n",
      "ax3.set_xlim(-1, len(male_lowclass))\n",
      "plt.legend(loc='best')\n",
      "\n",
      "ax4=fig.add_subplot(144, sharey=ax1)\n",
      "male_highclass = df.survived[df.sex == 'male'][df.pclass != 3].value_counts()\n",
      "male_highclass.plot(kind='bar', label='male highclass', alpha=alpha_level, color='steelblue')\n",
      "ax4.set_xticklabels([\"Died\",\"Survived\"], rotation=0)\n",
      "ax4.set_xlim(-1, len(male_highclass))\n",
      "plt.legend(loc='best')"
     ],
     "language": "python",
     "metadata": {},
     "outputs": [
      {
       "metadata": {},
       "output_type": "pyout",
       "prompt_number": 7,
       "text": [
        "<matplotlib.legend.Legend at 0x10b59fa10>"
       ]
      },
      {
       "metadata": {},
       "output_type": "display_data",
       "png": "[encoded data removed]",
       "text": [
        "<matplotlib.figure.Figure at 0x10b12f150>"
       ]
      }
     ],
     "prompt_number": 7
    },
    {
     "cell_type": "markdown",
     "metadata": {},
     "source": [
      "So now we have a better understanding of who died during the sinking of the Titanic. Now we can go and create better informed models."
     ]
    },
    {
     "cell_type": "markdown",
     "metadata": {},
     "source": [
      "Once you have explored the dataset, begin creating your model. You may want to do several iterations of this experimenting with different combinations of features. "
     ]
    },
    {
     "cell_type": "code",
     "collapsed": false,
     "input": [
      "#Create your model here\n",
      "# model formula\n",
      "# here the ~ sign is an = sign, and the features of our dataset\n",
      "# are written as a formula to predict survived. The C() lets our \n",
      "# regression know that those variables are categorical.\n",
      "formula = 'survived ~ C(pclass) + C(sex) + age + sibsp  + C(embarked)' \n",
      "# create a results dictionary to hold our regression results for easy analysis later        \n",
      "results = {} "
     ],
     "language": "python",
     "metadata": {},
     "outputs": [],
     "prompt_number": 8
    },
    {
     "cell_type": "code",
     "collapsed": false,
     "input": [
      "# instantiate our model\n",
      "model = smf.logit(formula, df)\n",
      "\n",
      "# fit our model to the training data\n",
      "res = model.fit()\n",
      "\n",
      "# save the result for outputing predictions later\n",
      "results['Logit'] = [res, formula]\n",
      "res.summary()"
     ],
     "language": "python",
     "metadata": {},
     "outputs": [
      {
       "output_type": "stream",
       "stream": "stdout",
       "text": [
        "Optimization terminated successfully.\n",
        "         Current function value: 0.441774\n",
        "         Iterations 7\n"
       ]
      },
      {
       "html": [
        "<table class=\"simpletable\">\n",
        "<caption>Logit Regression Results</caption>\n",
        "<tr>\n",
        "  <th>Dep. Variable:</th>     <td>survived</td>     <th>  No. Observations:  </th>  <td>   183</td>  \n",
        "</tr>\n",
        "<tr>\n",
        "  <th>Model:</th>               <td>Logit</td>      <th>  Df Residuals:      </th>  <td>   175</td>  \n",
        "</tr>\n",
        "<tr>\n",
        "  <th>Method:</th>               <td>MLE</td>       <th>  Df Model:          </th>  <td>     7</td>  \n",
        "</tr>\n",
        "<tr>\n",
        "  <th>Date:</th>          <td>Sun, 22 Feb 2015</td> <th>  Pseudo R-squ.:     </th>  <td>0.3017</td>  \n",
        "</tr>\n",
        "<tr>\n",
        "  <th>Time:</th>              <td>13:05:52</td>     <th>  Log-Likelihood:    </th> <td> -80.845</td> \n",
        "</tr>\n",
        "<tr>\n",
        "  <th>converged:</th>           <td>True</td>       <th>  LL-Null:           </th> <td> -115.78</td> \n",
        "</tr>\n",
        "<tr>\n",
        "  <th> </th>                      <td> </td>        <th>  LLR p-value:       </th> <td>1.574e-12</td>\n",
        "</tr>\n",
        "</table>\n",
        "<table class=\"simpletable\">\n",
        "<tr>\n",
        "          <td></td>            <th>coef</th>     <th>std err</th>      <th>z</th>      <th>P>|z|</th> <th>[95.0% Conf. Int.]</th> \n",
        "</tr>\n",
        "<tr>\n",
        "  <th>Intercept</th>        <td>    4.2584</td> <td>    0.808</td> <td>    5.270</td> <td> 0.000</td> <td>    2.675     5.842</td>\n",
        "</tr>\n",
        "<tr>\n",
        "  <th>C(pclass)[T.2]</th>   <td>   -0.0369</td> <td>    0.800</td> <td>   -0.046</td> <td> 0.963</td> <td>   -1.604     1.530</td>\n",
        "</tr>\n",
        "<tr>\n",
        "  <th>C(pclass)[T.3]</th>   <td>   -1.6803</td> <td>    0.941</td> <td>   -1.786</td> <td> 0.074</td> <td>   -3.524     0.164</td>\n",
        "</tr>\n",
        "<tr>\n",
        "  <th>C(sex)[T.male]</th>   <td>   -2.8523</td> <td>    0.493</td> <td>   -5.781</td> <td> 0.000</td> <td>   -3.819    -1.885</td>\n",
        "</tr>\n",
        "<tr>\n",
        "  <th>C(embarked)[T.Q]</th> <td>   -1.6483</td> <td>    1.944</td> <td>   -0.848</td> <td> 0.396</td> <td>   -5.458     2.161</td>\n",
        "</tr>\n",
        "<tr>\n",
        "  <th>C(embarked)[T.S]</th> <td>   -0.4286</td> <td>    0.426</td> <td>   -1.007</td> <td> 0.314</td> <td>   -1.263     0.406</td>\n",
        "</tr>\n",
        "<tr>\n",
        "  <th>age</th>              <td>   -0.0357</td> <td>    0.014</td> <td>   -2.571</td> <td> 0.010</td> <td>   -0.063    -0.008</td>\n",
        "</tr>\n",
        "<tr>\n",
        "  <th>sibsp</th>            <td>    0.1272</td> <td>    0.348</td> <td>    0.366</td> <td> 0.715</td> <td>   -0.555     0.809</td>\n",
        "</tr>\n",
        "</table>"
       ],
       "metadata": {},
       "output_type": "pyout",
       "prompt_number": 11,
       "text": [
        "<class 'statsmodels.iolib.summary.Summary'>\n",
        "\"\"\"\n",
        "                           Logit Regression Results                           \n",
        "==============================================================================\n",
        "Dep. Variable:               survived   No. Observations:                  183\n",
        "Model:                          Logit   Df Residuals:                      175\n",
        "Method:                           MLE   Df Model:                            7\n",
        "Date:                Sun, 22 Feb 2015   Pseudo R-squ.:                  0.3017\n",
        "Time:                        13:05:52   Log-Likelihood:                -80.845\n",
        "converged:                       True   LL-Null:                       -115.78\n",
        "                                        LLR p-value:                 1.574e-12\n",
        "====================================================================================\n",
        "                       coef    std err          z      P>|z|      [95.0% Conf. Int.]\n",
        "------------------------------------------------------------------------------------\n",
        "Intercept            4.2584      0.808      5.270      0.000         2.675     5.842\n",
        "C(pclass)[T.2]      -0.0369      0.800     -0.046      0.963        -1.604     1.530\n",
        "C(pclass)[T.3]      -1.6803      0.941     -1.786      0.074        -3.524     0.164\n",
        "C(sex)[T.male]      -2.8523      0.493     -5.781      0.000        -3.819    -1.885\n",
        "C(embarked)[T.Q]    -1.6483      1.944     -0.848      0.396        -5.458     2.161\n",
        "C(embarked)[T.S]    -0.4286      0.426     -1.007      0.314        -1.263     0.406\n",
        "age                 -0.0357      0.014     -2.571      0.010        -0.063    -0.008\n",
        "sibsp                0.1272      0.348      0.366      0.715        -0.555     0.809\n",
        "====================================================================================\n",
        "\"\"\""
       ]
      }
     ],
     "prompt_number": 11
    },
    {
     "cell_type": "markdown",
     "metadata": {},
     "source": [
      "Let's make a plot of our residuals to see how our model fares. "
     ]
    },
    {
     "cell_type": "code",
     "collapsed": false,
     "input": [
      "# Plot Predictions Vs Actual\n",
      "plt.figure(figsize=(18,4));\n",
      "plt.subplot(121, axisbg=\"#DBDBDB\")\n",
      "# generate predictions from our fitted model\n",
      "ypred = res.predict(x)\n",
      "plt.plot(x.index, ypred, 'bo', x.index, y, 'mo', alpha=.25);\n",
      "plt.grid(color='white', linestyle='dashed')\n",
      "plt.title('Logit predictions, Blue: \\nFitted/predicted values: Red');\n",
      "\n",
      "# Residuals\n",
      "ax2 = plt.subplot(122, axisbg=\"#DBDBDB\")\n",
      "plt.plot(res.resid_dev, 'r-')\n",
      "plt.grid(color='white', linestyle='dashed')\n",
      "ax2.set_xlim(-1, len(res.resid_dev))\n",
      "plt.title('Logit Residuals');"
     ],
     "language": "python",
     "metadata": {},
     "outputs": [
      {
       "metadata": {},
       "output_type": "display_data",
       "png": "[encoded data removed]",
       "text": [
        "<matplotlib.figure.Figure at 0x10d5a5210>"
       ]
      }
     ],
     "prompt_number": 24
    },
    {
     "cell_type": "markdown",
     "metadata": {},
     "source": [
      "#How do I test my results?\n",
      "There are a few ways to evaluate your model. One is by comparing it to the test set and calculating a prediction accuracy. This method would work if you have the outcome variable in your test set. Unfortunately for this dataset, Kaggle has withheld that, probably to prevent overfitting. You could also interpret it further by delving deeper into the summary information the model provides. This could involve looking at confidence intervals and odd ratios for the coefficients. "
     ]
    },
    {
     "cell_type": "code",
     "collapsed": false,
     "input": [
      "#Evaluate results here\n",
      "res.conf_int()"
     ],
     "language": "python",
     "metadata": {},
     "outputs": [
      {
       "html": [
        "<div style=\"max-height:1000px;max-width:1500px;overflow:auto;\">\n",
        "<table border=\"1\" class=\"dataframe\">\n",
        "  <thead>\n",
        "    <tr style=\"text-align: right;\">\n",
        "      <th></th>\n",
        "      <th>0</th>\n",
        "      <th>1</th>\n",
        "    </tr>\n",
        "  </thead>\n",
        "  <tbody>\n",
        "    <tr>\n",
        "      <th>Intercept</th>\n",
        "      <td> 2.674529</td>\n",
        "      <td> 5.842209</td>\n",
        "    </tr>\n",
        "    <tr>\n",
        "      <th>C(pclass)[T.2]</th>\n",
        "      <td>-1.603929</td>\n",
        "      <td> 1.530075</td>\n",
        "    </tr>\n",
        "    <tr>\n",
        "      <th>C(pclass)[T.3]</th>\n",
        "      <td>-3.524460</td>\n",
        "      <td> 0.163887</td>\n",
        "    </tr>\n",
        "    <tr>\n",
        "      <th>C(sex)[T.male]</th>\n",
        "      <td>-3.819254</td>\n",
        "      <td>-1.885315</td>\n",
        "    </tr>\n",
        "    <tr>\n",
        "      <th>C(embarked)[T.Q]</th>\n",
        "      <td>-5.457947</td>\n",
        "      <td> 2.161312</td>\n",
        "    </tr>\n",
        "    <tr>\n",
        "      <th>C(embarked)[T.S]</th>\n",
        "      <td>-1.262805</td>\n",
        "      <td> 0.405530</td>\n",
        "    </tr>\n",
        "    <tr>\n",
        "      <th>age</th>\n",
        "      <td>-0.062931</td>\n",
        "      <td>-0.008486</td>\n",
        "    </tr>\n",
        "    <tr>\n",
        "      <th>sibsp</th>\n",
        "      <td>-0.554707</td>\n",
        "      <td> 0.809196</td>\n",
        "    </tr>\n",
        "  </tbody>\n",
        "</table>\n",
        "</div>"
       ],
       "metadata": {},
       "output_type": "pyout",
       "prompt_number": 63,
       "text": [
        "                         0         1\n",
        "Intercept         2.674529  5.842209\n",
        "C(pclass)[T.2]   -1.603929  1.530075\n",
        "C(pclass)[T.3]   -3.524460  0.163887\n",
        "C(sex)[T.male]   -3.819254 -1.885315\n",
        "C(embarked)[T.Q] -5.457947  2.161312\n",
        "C(embarked)[T.S] -1.262805  0.405530\n",
        "age              -0.062931 -0.008486\n",
        "sibsp            -0.554707  0.809196"
       ]
      }
     ],
     "prompt_number": 63
    },
    {
     "cell_type": "code",
     "collapsed": false,
     "input": [
      "#Odd Ratio: Take the exponential of each of the coefficients to generate the odds ratios.\n",
      "#This tells you how a 1 unit increase or decrease in a variable affects the odds of surviving\n",
      "print np.exp(res.params)"
     ],
     "language": "python",
     "metadata": {},
     "outputs": [
      {
       "output_type": "stream",
       "stream": "stdout",
       "text": [
        "Intercept           70.694578\n",
        "C(pclass)[T.2]       0.963747\n",
        "C(pclass)[T.3]       0.186321\n",
        "C(sex)[T.male]       0.057712\n",
        "C(embarked)[T.Q]     0.192373\n",
        "C(embarked)[T.S]     0.651396\n",
        "age                  0.964922\n",
        "sibsp                1.135694\n",
        "dtype: float64\n"
       ]
      }
     ],
     "prompt_number": 64
    },
    {
     "cell_type": "code",
     "collapsed": false,
     "input": [
      "test_data = pd.read_csv(\"../data/titanic_test.csv\")\n",
      "test_data.head()"
     ],
     "language": "python",
     "metadata": {},
     "outputs": [
      {
       "html": [
        "<div style=\"max-height:1000px;max-width:1500px;overflow:auto;\">\n",
        "<table border=\"1\" class=\"dataframe\">\n",
        "  <thead>\n",
        "    <tr style=\"text-align: right;\">\n",
        "      <th></th>\n",
        "      <th>pclass</th>\n",
        "      <th>name</th>\n",
        "      <th>sex</th>\n",
        "      <th>age</th>\n",
        "      <th>sibsp</th>\n",
        "      <th>parch</th>\n",
        "      <th>ticket</th>\n",
        "      <th>fare</th>\n",
        "      <th>cabin</th>\n",
        "      <th>embarked</th>\n",
        "    </tr>\n",
        "  </thead>\n",
        "  <tbody>\n",
        "    <tr>\n",
        "      <th>0</th>\n",
        "      <td> 3</td>\n",
        "      <td>                             Kelly, Mr. James</td>\n",
        "      <td>   male</td>\n",
        "      <td> 34.5</td>\n",
        "      <td> 0</td>\n",
        "      <td> 0</td>\n",
        "      <td>  330911</td>\n",
        "      <td>  7.8292</td>\n",
        "      <td> NaN</td>\n",
        "      <td> Q</td>\n",
        "    </tr>\n",
        "    <tr>\n",
        "      <th>1</th>\n",
        "      <td> 3</td>\n",
        "      <td>             Wilkes, Mrs. James (Ellen Needs)</td>\n",
        "      <td> female</td>\n",
        "      <td> 47.0</td>\n",
        "      <td> 1</td>\n",
        "      <td> 0</td>\n",
        "      <td>  363272</td>\n",
        "      <td>  7.0000</td>\n",
        "      <td> NaN</td>\n",
        "      <td> S</td>\n",
        "    </tr>\n",
        "    <tr>\n",
        "      <th>2</th>\n",
        "      <td> 2</td>\n",
        "      <td>                    Myles, Mr. Thomas Francis</td>\n",
        "      <td>   male</td>\n",
        "      <td> 62.0</td>\n",
        "      <td> 0</td>\n",
        "      <td> 0</td>\n",
        "      <td>  240276</td>\n",
        "      <td>  9.6875</td>\n",
        "      <td> NaN</td>\n",
        "      <td> Q</td>\n",
        "    </tr>\n",
        "    <tr>\n",
        "      <th>3</th>\n",
        "      <td> 3</td>\n",
        "      <td>                             Wirz, Mr. Albert</td>\n",
        "      <td>   male</td>\n",
        "      <td> 27.0</td>\n",
        "      <td> 0</td>\n",
        "      <td> 0</td>\n",
        "      <td>  315154</td>\n",
        "      <td>  8.6625</td>\n",
        "      <td> NaN</td>\n",
        "      <td> S</td>\n",
        "    </tr>\n",
        "    <tr>\n",
        "      <th>4</th>\n",
        "      <td> 3</td>\n",
        "      <td> Hirvonen, Mrs. Alexander (Helga E Lindqvist)</td>\n",
        "      <td> female</td>\n",
        "      <td> 22.0</td>\n",
        "      <td> 1</td>\n",
        "      <td> 1</td>\n",
        "      <td> 3101298</td>\n",
        "      <td> 12.2875</td>\n",
        "      <td> NaN</td>\n",
        "      <td> S</td>\n",
        "    </tr>\n",
        "  </tbody>\n",
        "</table>\n",
        "</div>"
       ],
       "metadata": {},
       "output_type": "pyout",
       "prompt_number": 65,
       "text": [
        "   pclass                                          name     sex   age  sibsp  \\\n",
        "0       3                              Kelly, Mr. James    male  34.5      0   \n",
        "1       3              Wilkes, Mrs. James (Ellen Needs)  female  47.0      1   \n",
        "2       2                     Myles, Mr. Thomas Francis    male  62.0      0   \n",
        "3       3                              Wirz, Mr. Albert    male  27.0      0   \n",
        "4       3  Hirvonen, Mrs. Alexander (Helga E Lindqvist)  female  22.0      1   \n",
        "\n",
        "   parch   ticket     fare cabin embarked  \n",
        "0      0   330911   7.8292   NaN        Q  \n",
        "1      0   363272   7.0000   NaN        S  \n",
        "2      0   240276   9.6875   NaN        Q  \n",
        "3      0   315154   8.6625   NaN        S  \n",
        "4      1  3101298  12.2875   NaN        S  "
       ]
      }
     ],
     "prompt_number": 65
    },
    {
     "cell_type": "code",
     "collapsed": false,
     "input": [
      "#test_data = test_data.dropna()\n",
      "test_data = test_data.dropna(subset=['age'])"
     ],
     "language": "python",
     "metadata": {},
     "outputs": [],
     "prompt_number": 66
    },
    {
     "cell_type": "markdown",
     "metadata": {},
     "source": [
      "Remember that the output of logistic regression are probabilities. Typically a probability of > 0.5 corresponds to a \"1\" classification while a probability of < 0.5 corresponds to a \"0\" classification."
     ]
    },
    {
     "cell_type": "code",
     "collapsed": false,
     "input": [
      "test_data['predicted_probabilities'] = res.predict(test_data)\n",
      "test_data.head()"
     ],
     "language": "python",
     "metadata": {},
     "outputs": [
      {
       "html": [
        "<div style=\"max-height:1000px;max-width:1500px;overflow:auto;\">\n",
        "<table border=\"1\" class=\"dataframe\">\n",
        "  <thead>\n",
        "    <tr style=\"text-align: right;\">\n",
        "      <th></th>\n",
        "      <th>pclass</th>\n",
        "      <th>name</th>\n",
        "      <th>sex</th>\n",
        "      <th>age</th>\n",
        "      <th>sibsp</th>\n",
        "      <th>parch</th>\n",
        "      <th>ticket</th>\n",
        "      <th>fare</th>\n",
        "      <th>cabin</th>\n",
        "      <th>embarked</th>\n",
        "      <th>predicted_probabilities</th>\n",
        "    </tr>\n",
        "  </thead>\n",
        "  <tbody>\n",
        "    <tr>\n",
        "      <th>0</th>\n",
        "      <td> 3</td>\n",
        "      <td>                             Kelly, Mr. James</td>\n",
        "      <td>   male</td>\n",
        "      <td> 34.5</td>\n",
        "      <td> 0</td>\n",
        "      <td> 0</td>\n",
        "      <td>  330911</td>\n",
        "      <td>  7.8292</td>\n",
        "      <td> NaN</td>\n",
        "      <td> Q</td>\n",
        "      <td> 0.040916</td>\n",
        "    </tr>\n",
        "    <tr>\n",
        "      <th>1</th>\n",
        "      <td> 3</td>\n",
        "      <td>             Wilkes, Mrs. James (Ellen Needs)</td>\n",
        "      <td> female</td>\n",
        "      <td> 47.0</td>\n",
        "      <td> 1</td>\n",
        "      <td> 0</td>\n",
        "      <td>  363272</td>\n",
        "      <td>  7.0000</td>\n",
        "      <td> NaN</td>\n",
        "      <td> S</td>\n",
        "      <td> 0.645288</td>\n",
        "    </tr>\n",
        "    <tr>\n",
        "      <th>2</th>\n",
        "      <td> 2</td>\n",
        "      <td>                    Myles, Mr. Thomas Francis</td>\n",
        "      <td>   male</td>\n",
        "      <td> 62.0</td>\n",
        "      <td> 0</td>\n",
        "      <td> 0</td>\n",
        "      <td>  240276</td>\n",
        "      <td>  9.6875</td>\n",
        "      <td> NaN</td>\n",
        "      <td> Q</td>\n",
        "      <td> 0.076344</td>\n",
        "    </tr>\n",
        "    <tr>\n",
        "      <th>3</th>\n",
        "      <td> 3</td>\n",
        "      <td>                             Wirz, Mr. Albert</td>\n",
        "      <td>   male</td>\n",
        "      <td> 27.0</td>\n",
        "      <td> 0</td>\n",
        "      <td> 0</td>\n",
        "      <td>  315154</td>\n",
        "      <td>  8.6625</td>\n",
        "      <td> NaN</td>\n",
        "      <td> S</td>\n",
        "      <td> 0.158829</td>\n",
        "    </tr>\n",
        "    <tr>\n",
        "      <th>4</th>\n",
        "      <td> 3</td>\n",
        "      <td> Hirvonen, Mrs. Alexander (Helga E Lindqvist)</td>\n",
        "      <td> female</td>\n",
        "      <td> 22.0</td>\n",
        "      <td> 1</td>\n",
        "      <td> 1</td>\n",
        "      <td> 3101298</td>\n",
        "      <td> 12.2875</td>\n",
        "      <td> NaN</td>\n",
        "      <td> S</td>\n",
        "      <td> 0.816244</td>\n",
        "    </tr>\n",
        "  </tbody>\n",
        "</table>\n",
        "</div>"
       ],
       "metadata": {},
       "output_type": "pyout",
       "prompt_number": 67,
       "text": [
        "   pclass                                          name     sex   age  sibsp  \\\n",
        "0       3                              Kelly, Mr. James    male  34.5      0   \n",
        "1       3              Wilkes, Mrs. James (Ellen Needs)  female  47.0      1   \n",
        "2       2                     Myles, Mr. Thomas Francis    male  62.0      0   \n",
        "3       3                              Wirz, Mr. Albert    male  27.0      0   \n",
        "4       3  Hirvonen, Mrs. Alexander (Helga E Lindqvist)  female  22.0      1   \n",
        "\n",
        "   parch   ticket     fare cabin embarked  predicted_probabilities  \n",
        "0      0   330911   7.8292   NaN        Q                 0.040916  \n",
        "1      0   363272   7.0000   NaN        S                 0.645288  \n",
        "2      0   240276   9.6875   NaN        Q                 0.076344  \n",
        "3      0   315154   8.6625   NaN        S                 0.158829  \n",
        "4      1  3101298  12.2875   NaN        S                 0.816244  "
       ]
      }
     ],
     "prompt_number": 67
    },
    {
     "cell_type": "code",
     "collapsed": false,
     "input": [
      "test_data['survived'] = map(lambda x: 1 if x > 0.5 else 0, test_data['predicted_probabilities'])\n",
      "test_data.head()"
     ],
     "language": "python",
     "metadata": {},
     "outputs": [
      {
       "html": [
        "<div style=\"max-height:1000px;max-width:1500px;overflow:auto;\">\n",
        "<table border=\"1\" class=\"dataframe\">\n",
        "  <thead>\n",
        "    <tr style=\"text-align: right;\">\n",
        "      <th></th>\n",
        "      <th>pclass</th>\n",
        "      <th>name</th>\n",
        "      <th>sex</th>\n",
        "      <th>age</th>\n",
        "      <th>sibsp</th>\n",
        "      <th>parch</th>\n",
        "      <th>ticket</th>\n",
        "      <th>fare</th>\n",
        "      <th>cabin</th>\n",
        "      <th>embarked</th>\n",
        "      <th>predicted_probabilities</th>\n",
        "      <th>survived</th>\n",
        "    </tr>\n",
        "  </thead>\n",
        "  <tbody>\n",
        "    <tr>\n",
        "      <th>0</th>\n",
        "      <td> 3</td>\n",
        "      <td>                             Kelly, Mr. James</td>\n",
        "      <td>   male</td>\n",
        "      <td> 34.5</td>\n",
        "      <td> 0</td>\n",
        "      <td> 0</td>\n",
        "      <td>  330911</td>\n",
        "      <td>  7.8292</td>\n",
        "      <td> NaN</td>\n",
        "      <td> Q</td>\n",
        "      <td> 0.040916</td>\n",
        "      <td> 0</td>\n",
        "    </tr>\n",
        "    <tr>\n",
        "      <th>1</th>\n",
        "      <td> 3</td>\n",
        "      <td>             Wilkes, Mrs. James (Ellen Needs)</td>\n",
        "      <td> female</td>\n",
        "      <td> 47.0</td>\n",
        "      <td> 1</td>\n",
        "      <td> 0</td>\n",
        "      <td>  363272</td>\n",
        "      <td>  7.0000</td>\n",
        "      <td> NaN</td>\n",
        "      <td> S</td>\n",
        "      <td> 0.645288</td>\n",
        "      <td> 1</td>\n",
        "    </tr>\n",
        "    <tr>\n",
        "      <th>2</th>\n",
        "      <td> 2</td>\n",
        "      <td>                    Myles, Mr. Thomas Francis</td>\n",
        "      <td>   male</td>\n",
        "      <td> 62.0</td>\n",
        "      <td> 0</td>\n",
        "      <td> 0</td>\n",
        "      <td>  240276</td>\n",
        "      <td>  9.6875</td>\n",
        "      <td> NaN</td>\n",
        "      <td> Q</td>\n",
        "      <td> 0.076344</td>\n",
        "      <td> 0</td>\n",
        "    </tr>\n",
        "    <tr>\n",
        "      <th>3</th>\n",
        "      <td> 3</td>\n",
        "      <td>                             Wirz, Mr. Albert</td>\n",
        "      <td>   male</td>\n",
        "      <td> 27.0</td>\n",
        "      <td> 0</td>\n",
        "      <td> 0</td>\n",
        "      <td>  315154</td>\n",
        "      <td>  8.6625</td>\n",
        "      <td> NaN</td>\n",
        "      <td> S</td>\n",
        "      <td> 0.158829</td>\n",
        "      <td> 0</td>\n",
        "    </tr>\n",
        "    <tr>\n",
        "      <th>4</th>\n",
        "      <td> 3</td>\n",
        "      <td> Hirvonen, Mrs. Alexander (Helga E Lindqvist)</td>\n",
        "      <td> female</td>\n",
        "      <td> 22.0</td>\n",
        "      <td> 1</td>\n",
        "      <td> 1</td>\n",
        "      <td> 3101298</td>\n",
        "      <td> 12.2875</td>\n",
        "      <td> NaN</td>\n",
        "      <td> S</td>\n",
        "      <td> 0.816244</td>\n",
        "      <td> 1</td>\n",
        "    </tr>\n",
        "  </tbody>\n",
        "</table>\n",
        "</div>"
       ],
       "metadata": {},
       "output_type": "pyout",
       "prompt_number": 68,
       "text": [
        "   pclass                                          name     sex   age  sibsp  \\\n",
        "0       3                              Kelly, Mr. James    male  34.5      0   \n",
        "1       3              Wilkes, Mrs. James (Ellen Needs)  female  47.0      1   \n",
        "2       2                     Myles, Mr. Thomas Francis    male  62.0      0   \n",
        "3       3                              Wirz, Mr. Albert    male  27.0      0   \n",
        "4       3  Hirvonen, Mrs. Alexander (Helga E Lindqvist)  female  22.0      1   \n",
        "\n",
        "   parch   ticket     fare cabin embarked  predicted_probabilities  survived  \n",
        "0      0   330911   7.8292   NaN        Q                 0.040916         0  \n",
        "1      0   363272   7.0000   NaN        S                 0.645288         1  \n",
        "2      0   240276   9.6875   NaN        Q                 0.076344         0  \n",
        "3      0   315154   8.6625   NaN        S                 0.158829         0  \n",
        "4      1  3101298  12.2875   NaN        S                 0.816244         1  "
       ]
      }
     ],
     "prompt_number": 68
    },
    {
     "cell_type": "markdown",
     "metadata": {},
     "source": [
      "(Optional) Another way that you can evaluate, leveraging the fact that this is a Kaggle competition, is to upload your results directly to Kaggle and see how your results stack against all the others who have competed. To submit to Kaggle, you'll have to save the output of your predictions to a CSV file and upload that to the Kaggle Titanic contest page. You'll need a Kaggle account to do this. \n",
      "\n",
      "Go to the Kaggle page [here]('http://www.kaggle.com/c/titanic-gettingStarted').\n",
      "\n",
      "If you do submit on Kaggle, post your Kaggle accuracy on Hipchat and see how you compare to your classmates!\n",
      "\n",
      "*Note that the format for submission for Kaggle competitions is very strict. Make sure you submit it the way they want it.*"
     ]
    },
    {
     "cell_type": "code",
     "collapsed": false,
     "input": [
      "test_data['survived'].to_csv(\"hw3-logisticregression.csv\")"
     ],
     "language": "python",
     "metadata": {},
     "outputs": [],
     "prompt_number": 69
    },
    {
     "cell_type": "markdown",
     "metadata": {},
     "source": [
      "Submitting to Kaggle gives us an **RMSE of 0.77033**. Not bad! Obviously we can use more robust models that we'll learn later in class to improve on this. "
     ]
    },
    {
     "cell_type": "markdown",
     "metadata": {},
     "source": [
      "#Notes:\n",
      "- There is missing data that you may want to remove before you begin running your analysis.\n",
      "- Beware of overfitting! Sometimes a good prediction accuracy with the test set may not necessarily translate to the best result you would get on Kaggle.\n"
     ]
    },
    {
     "cell_type": "code",
     "collapsed": false,
     "input": [],
     "language": "python",
     "metadata": {},
     "outputs": []
    }
   ],
   "metadata": {}
  }
 ]
}